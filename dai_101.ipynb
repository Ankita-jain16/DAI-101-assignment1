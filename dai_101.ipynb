{
  "metadata": {
    "kernelspec": {
      "name": "python3",
      "display_name": "Python 3",
      "language": "python"
    },
    "language_info": {
      "name": "python",
      "version": "3.10.12",
      "mimetype": "text/x-python",
      "codemirror_mode": {
        "name": "ipython",
        "version": 3
      },
      "pygments_lexer": "ipython3",
      "nbconvert_exporter": "python",
      "file_extension": ".py"
    },
    "kaggle": {
      "accelerator": "none",
      "dataSources": [
        {
          "sourceId": 10881077,
          "sourceType": "datasetVersion",
          "datasetId": 6761030
        }
      ],
      "dockerImageVersionId": 30918,
      "isInternetEnabled": false,
      "language": "python",
      "sourceType": "notebook",
      "isGpuEnabled": false
    },
    "colab": {
      "provenance": [],
      "include_colab_link": true
    }
  },
  "nbformat_minor": 5,
  "nbformat": 4,
  "cells": [
    {
      "cell_type": "markdown",
      "metadata": {
        "id": "view-in-github",
        "colab_type": "text"
      },
      "source": [
        "<a href=\"https://colab.research.google.com/github/Ankita-jain16/DAI-101-assignment1/blob/main/dai_101.ipynb\" target=\"_parent\"><img src=\"https://colab.research.google.com/assets/colab-badge.svg\" alt=\"Open In Colab\"/></a>"
      ]
    },
    {
      "id": "e8549087-b017-489d-a7aa-501942242a59",
      "cell_type": "code",
      "source": [
        "import numpy as np\n",
        "import pandas as pd\n",
        "import matplotlib.pyplot as plt\n",
        "import seaborn as sns\n",
        "from scipy import stats\n",
        "from sklearn.impute import SimpleImputer\n",
        "from itertools import combinations\n",
        "from itertools import product\n",
        "from scipy.stats import chi2_contingency\n",
        "from google.colab import drive"
      ],
      "metadata": {
        "trusted": true,
        "_kg_hide-output": true,
        "execution": {
          "iopub.status.busy": "2025-02-28T12:58:50.497151Z",
          "iopub.execute_input": "2025-02-28T12:58:50.497488Z",
          "iopub.status.idle": "2025-02-28T12:58:50.502840Z",
          "shell.execute_reply.started": "2025-02-28T12:58:50.497462Z",
          "shell.execute_reply": "2025-02-28T12:58:50.501507Z"
        },
        "id": "e8549087-b017-489d-a7aa-501942242a59"
      },
      "outputs": [],
      "execution_count": 3
    },
    {
      "cell_type": "code",
      "source": [
        "drive.mount(\"/content/drive\")"
      ],
      "metadata": {
        "colab": {
          "base_uri": "https://localhost:8080/"
        },
        "id": "ISunM-cmw95p",
        "outputId": "1ebbf59b-c146-415b-ae53-764b4c3c0f07"
      },
      "id": "ISunM-cmw95p",
      "execution_count": 4,
      "outputs": [
        {
          "output_type": "stream",
          "name": "stdout",
          "text": [
            "Mounted at /content/drive\n"
          ]
        }
      ]
    },
    {
      "id": "609d3d32-86d6-41de-9662-fb0d6fe13ff7",
      "cell_type": "code",
      "source": [
        "data = pd.read_csv(\"/content/drive/My Drive/Uncleaned_employees_final_dataset (1).csv\")\n",
        "data"
      ],
      "metadata": {
        "trusted": true,
        "_kg_hide-output": true,
        "execution": {
          "iopub.status.busy": "2025-02-28T13:19:07.747624Z",
          "iopub.execute_input": "2025-02-28T13:19:07.748288Z",
          "iopub.status.idle": "2025-02-28T13:19:07.769876Z",
          "shell.execute_reply.started": "2025-02-28T13:19:07.748226Z",
          "shell.execute_reply": "2025-02-28T13:19:07.768275Z"
        },
        "colab": {
          "base_uri": "https://localhost:8080/",
          "height": 461
        },
        "id": "609d3d32-86d6-41de-9662-fb0d6fe13ff7",
        "outputId": "9a78f250-d704-430f-de3a-dc69587eb3f2"
      },
      "outputs": [
        {
          "output_type": "execute_result",
          "data": {
            "text/plain": [
              "       employee_id         department     region  education gender  \\\n",
              "0             8724         Technology  region_26  Bachelors      m   \n",
              "1            74430                 HR   region_4  Bachelors      f   \n",
              "2            72255  Sales & Marketing  region_13  Bachelors      m   \n",
              "3            38562        Procurement   region_2  Bachelors      f   \n",
              "4            64486            Finance  region_29  Bachelors      m   \n",
              "...            ...                ...        ...        ...    ...   \n",
              "17412        64573         Technology   region_7  Bachelors      f   \n",
              "17413        49584                 HR   region_7  Bachelors      m   \n",
              "17414        49584                 HR   region_7  Bachelors      m   \n",
              "17415        49584                 HR   region_7  Bachelors      m   \n",
              "17416        64573                 HR   region_7  Bachelors      f   \n",
              "\n",
              "      recruitment_channel  no_of_trainings  age  previous_year_rating  \\\n",
              "0                sourcing                1   24                   NaN   \n",
              "1                   other                1   31                   3.0   \n",
              "2                   other                1   31                   1.0   \n",
              "3                   other                3   31                   2.0   \n",
              "4                sourcing                1   30                   4.0   \n",
              "...                   ...              ...  ...                   ...   \n",
              "17412            referred                2   30                   5.0   \n",
              "17413               other                1   33                   1.0   \n",
              "17414               other                1   33                   1.0   \n",
              "17415               other                1   33                   1.0   \n",
              "17416            referred                1   35                   5.0   \n",
              "\n",
              "       length_of_service  KPIs_met_more_than_80  awards_won  \\\n",
              "0                      1                      1           0   \n",
              "1                      5                      0           0   \n",
              "2                      4                      0           0   \n",
              "3                      9                      0           0   \n",
              "4                      7                      0           0   \n",
              "...                  ...                    ...         ...   \n",
              "17412                  6                      1           0   \n",
              "17413                  9                      0           0   \n",
              "17414                  9                      0           0   \n",
              "17415                  9                      0           0   \n",
              "17416                  4                      1           0   \n",
              "\n",
              "       avg_training_score  \n",
              "0                      77  \n",
              "1                      51  \n",
              "2                      47  \n",
              "3                      65  \n",
              "4                      61  \n",
              "...                   ...  \n",
              "17412                  81  \n",
              "17413                  51  \n",
              "17414                  51  \n",
              "17415                  51  \n",
              "17416                  81  \n",
              "\n",
              "[17417 rows x 13 columns]"
            ],
            "text/html": [
              "\n",
              "  <div id=\"df-f9aa59d8-6920-43e2-a2cf-afd25e2302ab\" class=\"colab-df-container\">\n",
              "    <div>\n",
              "<style scoped>\n",
              "    .dataframe tbody tr th:only-of-type {\n",
              "        vertical-align: middle;\n",
              "    }\n",
              "\n",
              "    .dataframe tbody tr th {\n",
              "        vertical-align: top;\n",
              "    }\n",
              "\n",
              "    .dataframe thead th {\n",
              "        text-align: right;\n",
              "    }\n",
              "</style>\n",
              "<table border=\"1\" class=\"dataframe\">\n",
              "  <thead>\n",
              "    <tr style=\"text-align: right;\">\n",
              "      <th></th>\n",
              "      <th>employee_id</th>\n",
              "      <th>department</th>\n",
              "      <th>region</th>\n",
              "      <th>education</th>\n",
              "      <th>gender</th>\n",
              "      <th>recruitment_channel</th>\n",
              "      <th>no_of_trainings</th>\n",
              "      <th>age</th>\n",
              "      <th>previous_year_rating</th>\n",
              "      <th>length_of_service</th>\n",
              "      <th>KPIs_met_more_than_80</th>\n",
              "      <th>awards_won</th>\n",
              "      <th>avg_training_score</th>\n",
              "    </tr>\n",
              "  </thead>\n",
              "  <tbody>\n",
              "    <tr>\n",
              "      <th>0</th>\n",
              "      <td>8724</td>\n",
              "      <td>Technology</td>\n",
              "      <td>region_26</td>\n",
              "      <td>Bachelors</td>\n",
              "      <td>m</td>\n",
              "      <td>sourcing</td>\n",
              "      <td>1</td>\n",
              "      <td>24</td>\n",
              "      <td>NaN</td>\n",
              "      <td>1</td>\n",
              "      <td>1</td>\n",
              "      <td>0</td>\n",
              "      <td>77</td>\n",
              "    </tr>\n",
              "    <tr>\n",
              "      <th>1</th>\n",
              "      <td>74430</td>\n",
              "      <td>HR</td>\n",
              "      <td>region_4</td>\n",
              "      <td>Bachelors</td>\n",
              "      <td>f</td>\n",
              "      <td>other</td>\n",
              "      <td>1</td>\n",
              "      <td>31</td>\n",
              "      <td>3.0</td>\n",
              "      <td>5</td>\n",
              "      <td>0</td>\n",
              "      <td>0</td>\n",
              "      <td>51</td>\n",
              "    </tr>\n",
              "    <tr>\n",
              "      <th>2</th>\n",
              "      <td>72255</td>\n",
              "      <td>Sales &amp; Marketing</td>\n",
              "      <td>region_13</td>\n",
              "      <td>Bachelors</td>\n",
              "      <td>m</td>\n",
              "      <td>other</td>\n",
              "      <td>1</td>\n",
              "      <td>31</td>\n",
              "      <td>1.0</td>\n",
              "      <td>4</td>\n",
              "      <td>0</td>\n",
              "      <td>0</td>\n",
              "      <td>47</td>\n",
              "    </tr>\n",
              "    <tr>\n",
              "      <th>3</th>\n",
              "      <td>38562</td>\n",
              "      <td>Procurement</td>\n",
              "      <td>region_2</td>\n",
              "      <td>Bachelors</td>\n",
              "      <td>f</td>\n",
              "      <td>other</td>\n",
              "      <td>3</td>\n",
              "      <td>31</td>\n",
              "      <td>2.0</td>\n",
              "      <td>9</td>\n",
              "      <td>0</td>\n",
              "      <td>0</td>\n",
              "      <td>65</td>\n",
              "    </tr>\n",
              "    <tr>\n",
              "      <th>4</th>\n",
              "      <td>64486</td>\n",
              "      <td>Finance</td>\n",
              "      <td>region_29</td>\n",
              "      <td>Bachelors</td>\n",
              "      <td>m</td>\n",
              "      <td>sourcing</td>\n",
              "      <td>1</td>\n",
              "      <td>30</td>\n",
              "      <td>4.0</td>\n",
              "      <td>7</td>\n",
              "      <td>0</td>\n",
              "      <td>0</td>\n",
              "      <td>61</td>\n",
              "    </tr>\n",
              "    <tr>\n",
              "      <th>...</th>\n",
              "      <td>...</td>\n",
              "      <td>...</td>\n",
              "      <td>...</td>\n",
              "      <td>...</td>\n",
              "      <td>...</td>\n",
              "      <td>...</td>\n",
              "      <td>...</td>\n",
              "      <td>...</td>\n",
              "      <td>...</td>\n",
              "      <td>...</td>\n",
              "      <td>...</td>\n",
              "      <td>...</td>\n",
              "      <td>...</td>\n",
              "    </tr>\n",
              "    <tr>\n",
              "      <th>17412</th>\n",
              "      <td>64573</td>\n",
              "      <td>Technology</td>\n",
              "      <td>region_7</td>\n",
              "      <td>Bachelors</td>\n",
              "      <td>f</td>\n",
              "      <td>referred</td>\n",
              "      <td>2</td>\n",
              "      <td>30</td>\n",
              "      <td>5.0</td>\n",
              "      <td>6</td>\n",
              "      <td>1</td>\n",
              "      <td>0</td>\n",
              "      <td>81</td>\n",
              "    </tr>\n",
              "    <tr>\n",
              "      <th>17413</th>\n",
              "      <td>49584</td>\n",
              "      <td>HR</td>\n",
              "      <td>region_7</td>\n",
              "      <td>Bachelors</td>\n",
              "      <td>m</td>\n",
              "      <td>other</td>\n",
              "      <td>1</td>\n",
              "      <td>33</td>\n",
              "      <td>1.0</td>\n",
              "      <td>9</td>\n",
              "      <td>0</td>\n",
              "      <td>0</td>\n",
              "      <td>51</td>\n",
              "    </tr>\n",
              "    <tr>\n",
              "      <th>17414</th>\n",
              "      <td>49584</td>\n",
              "      <td>HR</td>\n",
              "      <td>region_7</td>\n",
              "      <td>Bachelors</td>\n",
              "      <td>m</td>\n",
              "      <td>other</td>\n",
              "      <td>1</td>\n",
              "      <td>33</td>\n",
              "      <td>1.0</td>\n",
              "      <td>9</td>\n",
              "      <td>0</td>\n",
              "      <td>0</td>\n",
              "      <td>51</td>\n",
              "    </tr>\n",
              "    <tr>\n",
              "      <th>17415</th>\n",
              "      <td>49584</td>\n",
              "      <td>HR</td>\n",
              "      <td>region_7</td>\n",
              "      <td>Bachelors</td>\n",
              "      <td>m</td>\n",
              "      <td>other</td>\n",
              "      <td>1</td>\n",
              "      <td>33</td>\n",
              "      <td>1.0</td>\n",
              "      <td>9</td>\n",
              "      <td>0</td>\n",
              "      <td>0</td>\n",
              "      <td>51</td>\n",
              "    </tr>\n",
              "    <tr>\n",
              "      <th>17416</th>\n",
              "      <td>64573</td>\n",
              "      <td>HR</td>\n",
              "      <td>region_7</td>\n",
              "      <td>Bachelors</td>\n",
              "      <td>f</td>\n",
              "      <td>referred</td>\n",
              "      <td>1</td>\n",
              "      <td>35</td>\n",
              "      <td>5.0</td>\n",
              "      <td>4</td>\n",
              "      <td>1</td>\n",
              "      <td>0</td>\n",
              "      <td>81</td>\n",
              "    </tr>\n",
              "  </tbody>\n",
              "</table>\n",
              "<p>17417 rows × 13 columns</p>\n",
              "</div>\n",
              "    <div class=\"colab-df-buttons\">\n",
              "\n",
              "  <div class=\"colab-df-container\">\n",
              "    <button class=\"colab-df-convert\" onclick=\"convertToInteractive('df-f9aa59d8-6920-43e2-a2cf-afd25e2302ab')\"\n",
              "            title=\"Convert this dataframe to an interactive table.\"\n",
              "            style=\"display:none;\">\n",
              "\n",
              "  <svg xmlns=\"http://www.w3.org/2000/svg\" height=\"24px\" viewBox=\"0 -960 960 960\">\n",
              "    <path d=\"M120-120v-720h720v720H120Zm60-500h600v-160H180v160Zm220 220h160v-160H400v160Zm0 220h160v-160H400v160ZM180-400h160v-160H180v160Zm440 0h160v-160H620v160ZM180-180h160v-160H180v160Zm440 0h160v-160H620v160Z\"/>\n",
              "  </svg>\n",
              "    </button>\n",
              "\n",
              "  <style>\n",
              "    .colab-df-container {\n",
              "      display:flex;\n",
              "      gap: 12px;\n",
              "    }\n",
              "\n",
              "    .colab-df-convert {\n",
              "      background-color: #E8F0FE;\n",
              "      border: none;\n",
              "      border-radius: 50%;\n",
              "      cursor: pointer;\n",
              "      display: none;\n",
              "      fill: #1967D2;\n",
              "      height: 32px;\n",
              "      padding: 0 0 0 0;\n",
              "      width: 32px;\n",
              "    }\n",
              "\n",
              "    .colab-df-convert:hover {\n",
              "      background-color: #E2EBFA;\n",
              "      box-shadow: 0px 1px 2px rgba(60, 64, 67, 0.3), 0px 1px 3px 1px rgba(60, 64, 67, 0.15);\n",
              "      fill: #174EA6;\n",
              "    }\n",
              "\n",
              "    .colab-df-buttons div {\n",
              "      margin-bottom: 4px;\n",
              "    }\n",
              "\n",
              "    [theme=dark] .colab-df-convert {\n",
              "      background-color: #3B4455;\n",
              "      fill: #D2E3FC;\n",
              "    }\n",
              "\n",
              "    [theme=dark] .colab-df-convert:hover {\n",
              "      background-color: #434B5C;\n",
              "      box-shadow: 0px 1px 3px 1px rgba(0, 0, 0, 0.15);\n",
              "      filter: drop-shadow(0px 1px 2px rgba(0, 0, 0, 0.3));\n",
              "      fill: #FFFFFF;\n",
              "    }\n",
              "  </style>\n",
              "\n",
              "    <script>\n",
              "      const buttonEl =\n",
              "        document.querySelector('#df-f9aa59d8-6920-43e2-a2cf-afd25e2302ab button.colab-df-convert');\n",
              "      buttonEl.style.display =\n",
              "        google.colab.kernel.accessAllowed ? 'block' : 'none';\n",
              "\n",
              "      async function convertToInteractive(key) {\n",
              "        const element = document.querySelector('#df-f9aa59d8-6920-43e2-a2cf-afd25e2302ab');\n",
              "        const dataTable =\n",
              "          await google.colab.kernel.invokeFunction('convertToInteractive',\n",
              "                                                    [key], {});\n",
              "        if (!dataTable) return;\n",
              "\n",
              "        const docLinkHtml = 'Like what you see? Visit the ' +\n",
              "          '<a target=\"_blank\" href=https://colab.research.google.com/notebooks/data_table.ipynb>data table notebook</a>'\n",
              "          + ' to learn more about interactive tables.';\n",
              "        element.innerHTML = '';\n",
              "        dataTable['output_type'] = 'display_data';\n",
              "        await google.colab.output.renderOutput(dataTable, element);\n",
              "        const docLink = document.createElement('div');\n",
              "        docLink.innerHTML = docLinkHtml;\n",
              "        element.appendChild(docLink);\n",
              "      }\n",
              "    </script>\n",
              "  </div>\n",
              "\n",
              "\n",
              "<div id=\"df-702a8229-a6e9-4d11-a621-6a0c7a664d9a\">\n",
              "  <button class=\"colab-df-quickchart\" onclick=\"quickchart('df-702a8229-a6e9-4d11-a621-6a0c7a664d9a')\"\n",
              "            title=\"Suggest charts\"\n",
              "            style=\"display:none;\">\n",
              "\n",
              "<svg xmlns=\"http://www.w3.org/2000/svg\" height=\"24px\"viewBox=\"0 0 24 24\"\n",
              "     width=\"24px\">\n",
              "    <g>\n",
              "        <path d=\"M19 3H5c-1.1 0-2 .9-2 2v14c0 1.1.9 2 2 2h14c1.1 0 2-.9 2-2V5c0-1.1-.9-2-2-2zM9 17H7v-7h2v7zm4 0h-2V7h2v10zm4 0h-2v-4h2v4z\"/>\n",
              "    </g>\n",
              "</svg>\n",
              "  </button>\n",
              "\n",
              "<style>\n",
              "  .colab-df-quickchart {\n",
              "      --bg-color: #E8F0FE;\n",
              "      --fill-color: #1967D2;\n",
              "      --hover-bg-color: #E2EBFA;\n",
              "      --hover-fill-color: #174EA6;\n",
              "      --disabled-fill-color: #AAA;\n",
              "      --disabled-bg-color: #DDD;\n",
              "  }\n",
              "\n",
              "  [theme=dark] .colab-df-quickchart {\n",
              "      --bg-color: #3B4455;\n",
              "      --fill-color: #D2E3FC;\n",
              "      --hover-bg-color: #434B5C;\n",
              "      --hover-fill-color: #FFFFFF;\n",
              "      --disabled-bg-color: #3B4455;\n",
              "      --disabled-fill-color: #666;\n",
              "  }\n",
              "\n",
              "  .colab-df-quickchart {\n",
              "    background-color: var(--bg-color);\n",
              "    border: none;\n",
              "    border-radius: 50%;\n",
              "    cursor: pointer;\n",
              "    display: none;\n",
              "    fill: var(--fill-color);\n",
              "    height: 32px;\n",
              "    padding: 0;\n",
              "    width: 32px;\n",
              "  }\n",
              "\n",
              "  .colab-df-quickchart:hover {\n",
              "    background-color: var(--hover-bg-color);\n",
              "    box-shadow: 0 1px 2px rgba(60, 64, 67, 0.3), 0 1px 3px 1px rgba(60, 64, 67, 0.15);\n",
              "    fill: var(--button-hover-fill-color);\n",
              "  }\n",
              "\n",
              "  .colab-df-quickchart-complete:disabled,\n",
              "  .colab-df-quickchart-complete:disabled:hover {\n",
              "    background-color: var(--disabled-bg-color);\n",
              "    fill: var(--disabled-fill-color);\n",
              "    box-shadow: none;\n",
              "  }\n",
              "\n",
              "  .colab-df-spinner {\n",
              "    border: 2px solid var(--fill-color);\n",
              "    border-color: transparent;\n",
              "    border-bottom-color: var(--fill-color);\n",
              "    animation:\n",
              "      spin 1s steps(1) infinite;\n",
              "  }\n",
              "\n",
              "  @keyframes spin {\n",
              "    0% {\n",
              "      border-color: transparent;\n",
              "      border-bottom-color: var(--fill-color);\n",
              "      border-left-color: var(--fill-color);\n",
              "    }\n",
              "    20% {\n",
              "      border-color: transparent;\n",
              "      border-left-color: var(--fill-color);\n",
              "      border-top-color: var(--fill-color);\n",
              "    }\n",
              "    30% {\n",
              "      border-color: transparent;\n",
              "      border-left-color: var(--fill-color);\n",
              "      border-top-color: var(--fill-color);\n",
              "      border-right-color: var(--fill-color);\n",
              "    }\n",
              "    40% {\n",
              "      border-color: transparent;\n",
              "      border-right-color: var(--fill-color);\n",
              "      border-top-color: var(--fill-color);\n",
              "    }\n",
              "    60% {\n",
              "      border-color: transparent;\n",
              "      border-right-color: var(--fill-color);\n",
              "    }\n",
              "    80% {\n",
              "      border-color: transparent;\n",
              "      border-right-color: var(--fill-color);\n",
              "      border-bottom-color: var(--fill-color);\n",
              "    }\n",
              "    90% {\n",
              "      border-color: transparent;\n",
              "      border-bottom-color: var(--fill-color);\n",
              "    }\n",
              "  }\n",
              "</style>\n",
              "\n",
              "  <script>\n",
              "    async function quickchart(key) {\n",
              "      const quickchartButtonEl =\n",
              "        document.querySelector('#' + key + ' button');\n",
              "      quickchartButtonEl.disabled = true;  // To prevent multiple clicks.\n",
              "      quickchartButtonEl.classList.add('colab-df-spinner');\n",
              "      try {\n",
              "        const charts = await google.colab.kernel.invokeFunction(\n",
              "            'suggestCharts', [key], {});\n",
              "      } catch (error) {\n",
              "        console.error('Error during call to suggestCharts:', error);\n",
              "      }\n",
              "      quickchartButtonEl.classList.remove('colab-df-spinner');\n",
              "      quickchartButtonEl.classList.add('colab-df-quickchart-complete');\n",
              "    }\n",
              "    (() => {\n",
              "      let quickchartButtonEl =\n",
              "        document.querySelector('#df-702a8229-a6e9-4d11-a621-6a0c7a664d9a button');\n",
              "      quickchartButtonEl.style.display =\n",
              "        google.colab.kernel.accessAllowed ? 'block' : 'none';\n",
              "    })();\n",
              "  </script>\n",
              "</div>\n",
              "\n",
              "  <div id=\"id_420f4f23-18bc-4103-a470-bedaf28bd9f4\">\n",
              "    <style>\n",
              "      .colab-df-generate {\n",
              "        background-color: #E8F0FE;\n",
              "        border: none;\n",
              "        border-radius: 50%;\n",
              "        cursor: pointer;\n",
              "        display: none;\n",
              "        fill: #1967D2;\n",
              "        height: 32px;\n",
              "        padding: 0 0 0 0;\n",
              "        width: 32px;\n",
              "      }\n",
              "\n",
              "      .colab-df-generate:hover {\n",
              "        background-color: #E2EBFA;\n",
              "        box-shadow: 0px 1px 2px rgba(60, 64, 67, 0.3), 0px 1px 3px 1px rgba(60, 64, 67, 0.15);\n",
              "        fill: #174EA6;\n",
              "      }\n",
              "\n",
              "      [theme=dark] .colab-df-generate {\n",
              "        background-color: #3B4455;\n",
              "        fill: #D2E3FC;\n",
              "      }\n",
              "\n",
              "      [theme=dark] .colab-df-generate:hover {\n",
              "        background-color: #434B5C;\n",
              "        box-shadow: 0px 1px 3px 1px rgba(0, 0, 0, 0.15);\n",
              "        filter: drop-shadow(0px 1px 2px rgba(0, 0, 0, 0.3));\n",
              "        fill: #FFFFFF;\n",
              "      }\n",
              "    </style>\n",
              "    <button class=\"colab-df-generate\" onclick=\"generateWithVariable('data')\"\n",
              "            title=\"Generate code using this dataframe.\"\n",
              "            style=\"display:none;\">\n",
              "\n",
              "  <svg xmlns=\"http://www.w3.org/2000/svg\" height=\"24px\"viewBox=\"0 0 24 24\"\n",
              "       width=\"24px\">\n",
              "    <path d=\"M7,19H8.4L18.45,9,17,7.55,7,17.6ZM5,21V16.75L18.45,3.32a2,2,0,0,1,2.83,0l1.4,1.43a1.91,1.91,0,0,1,.58,1.4,1.91,1.91,0,0,1-.58,1.4L9.25,21ZM18.45,9,17,7.55Zm-12,3A5.31,5.31,0,0,0,4.9,8.1,5.31,5.31,0,0,0,1,6.5,5.31,5.31,0,0,0,4.9,4.9,5.31,5.31,0,0,0,6.5,1,5.31,5.31,0,0,0,8.1,4.9,5.31,5.31,0,0,0,12,6.5,5.46,5.46,0,0,0,6.5,12Z\"/>\n",
              "  </svg>\n",
              "    </button>\n",
              "    <script>\n",
              "      (() => {\n",
              "      const buttonEl =\n",
              "        document.querySelector('#id_420f4f23-18bc-4103-a470-bedaf28bd9f4 button.colab-df-generate');\n",
              "      buttonEl.style.display =\n",
              "        google.colab.kernel.accessAllowed ? 'block' : 'none';\n",
              "\n",
              "      buttonEl.onclick = () => {\n",
              "        google.colab.notebook.generateWithVariable('data');\n",
              "      }\n",
              "      })();\n",
              "    </script>\n",
              "  </div>\n",
              "\n",
              "    </div>\n",
              "  </div>\n"
            ],
            "application/vnd.google.colaboratory.intrinsic+json": {
              "type": "dataframe",
              "variable_name": "data",
              "summary": "{\n  \"name\": \"data\",\n  \"rows\": 17417,\n  \"fields\": [\n    {\n      \"column\": \"employee_id\",\n      \"properties\": {\n        \"dtype\": \"number\",\n        \"std\": 22707,\n        \"min\": 3,\n        \"max\": 78295,\n        \"num_unique_values\": 17414,\n        \"samples\": [\n          11019,\n          19538,\n          67031\n        ],\n        \"semantic_type\": \"\",\n        \"description\": \"\"\n      }\n    },\n    {\n      \"column\": \"department\",\n      \"properties\": {\n        \"dtype\": \"category\",\n        \"num_unique_values\": 9,\n        \"samples\": [\n          \"Legal\",\n          \"HR\",\n          \"Analytics\"\n        ],\n        \"semantic_type\": \"\",\n        \"description\": \"\"\n      }\n    },\n    {\n      \"column\": \"region\",\n      \"properties\": {\n        \"dtype\": \"category\",\n        \"num_unique_values\": 34,\n        \"samples\": [\n          \"region_23\",\n          \"region_19\",\n          \"region_30\"\n        ],\n        \"semantic_type\": \"\",\n        \"description\": \"\"\n      }\n    },\n    {\n      \"column\": \"education\",\n      \"properties\": {\n        \"dtype\": \"category\",\n        \"num_unique_values\": 3,\n        \"samples\": [\n          \"Bachelors\",\n          \"Masters & above\",\n          \"Below Secondary\"\n        ],\n        \"semantic_type\": \"\",\n        \"description\": \"\"\n      }\n    },\n    {\n      \"column\": \"gender\",\n      \"properties\": {\n        \"dtype\": \"category\",\n        \"num_unique_values\": 2,\n        \"samples\": [\n          \"f\",\n          \"m\"\n        ],\n        \"semantic_type\": \"\",\n        \"description\": \"\"\n      }\n    },\n    {\n      \"column\": \"recruitment_channel\",\n      \"properties\": {\n        \"dtype\": \"category\",\n        \"num_unique_values\": 3,\n        \"samples\": [\n          \"sourcing\",\n          \"other\"\n        ],\n        \"semantic_type\": \"\",\n        \"description\": \"\"\n      }\n    },\n    {\n      \"column\": \"no_of_trainings\",\n      \"properties\": {\n        \"dtype\": \"number\",\n        \"std\": 0,\n        \"min\": 1,\n        \"max\": 9,\n        \"num_unique_values\": 9,\n        \"samples\": [\n          8,\n          3\n        ],\n        \"semantic_type\": \"\",\n        \"description\": \"\"\n      }\n    },\n    {\n      \"column\": \"age\",\n      \"properties\": {\n        \"dtype\": \"number\",\n        \"std\": 7,\n        \"min\": 20,\n        \"max\": 60,\n        \"num_unique_values\": 41,\n        \"samples\": [\n          38,\n          25\n        ],\n        \"semantic_type\": \"\",\n        \"description\": \"\"\n      }\n    },\n    {\n      \"column\": \"previous_year_rating\",\n      \"properties\": {\n        \"dtype\": \"number\",\n        \"std\": 1.2653858181244975,\n        \"min\": 1.0,\n        \"max\": 5.0,\n        \"num_unique_values\": 5,\n        \"samples\": [\n          1.0,\n          5.0\n        ],\n        \"semantic_type\": \"\",\n        \"description\": \"\"\n      }\n    },\n    {\n      \"column\": \"length_of_service\",\n      \"properties\": {\n        \"dtype\": \"number\",\n        \"std\": 4,\n        \"min\": 1,\n        \"max\": 34,\n        \"num_unique_values\": 34,\n        \"samples\": [\n          13,\n          15\n        ],\n        \"semantic_type\": \"\",\n        \"description\": \"\"\n      }\n    },\n    {\n      \"column\": \"KPIs_met_more_than_80\",\n      \"properties\": {\n        \"dtype\": \"number\",\n        \"std\": 0,\n        \"min\": 0,\n        \"max\": 1,\n        \"num_unique_values\": 2,\n        \"samples\": [\n          0,\n          1\n        ],\n        \"semantic_type\": \"\",\n        \"description\": \"\"\n      }\n    },\n    {\n      \"column\": \"awards_won\",\n      \"properties\": {\n        \"dtype\": \"number\",\n        \"std\": 0,\n        \"min\": 0,\n        \"max\": 1,\n        \"num_unique_values\": 2,\n        \"samples\": [\n          1,\n          0\n        ],\n        \"semantic_type\": \"\",\n        \"description\": \"\"\n      }\n    },\n    {\n      \"column\": \"avg_training_score\",\n      \"properties\": {\n        \"dtype\": \"number\",\n        \"std\": 13,\n        \"min\": 39,\n        \"max\": 99,\n        \"num_unique_values\": 61,\n        \"samples\": [\n          77,\n          68\n        ],\n        \"semantic_type\": \"\",\n        \"description\": \"\"\n      }\n    }\n  ]\n}"
            }
          },
          "metadata": {},
          "execution_count": 5
        }
      ],
      "execution_count": 5
    },
    {
      "id": "d3d63dbd-2da8-4f47-8c44-652753d86c1f",
      "cell_type": "code",
      "source": [
        "#Lets check for duplicates\n",
        "data.duplicated().sum()"
      ],
      "metadata": {
        "trusted": true,
        "colab": {
          "base_uri": "https://localhost:8080/"
        },
        "id": "d3d63dbd-2da8-4f47-8c44-652753d86c1f",
        "outputId": "ed599489-c9d8-4295-9571-57db0eaacc17"
      },
      "outputs": [
        {
          "output_type": "execute_result",
          "data": {
            "text/plain": [
              "2"
            ]
          },
          "metadata": {},
          "execution_count": 6
        }
      ],
      "execution_count": 6
    },
    {
      "id": "9b57a0c8-3d07-4c4f-91b4-66e9d78c54ce",
      "cell_type": "code",
      "source": [
        "#lets remove the duplicates\n",
        "data.drop_duplicates(inplace=True) #inplace=True modifies the original dataframe"
      ],
      "metadata": {
        "trusted": true,
        "id": "9b57a0c8-3d07-4c4f-91b4-66e9d78c54ce"
      },
      "outputs": [],
      "execution_count": 7
    },
    {
      "id": "e7205589-cf87-4148-82e5-b39c688fa062",
      "cell_type": "code",
      "source": [
        "#Lets check for null/nan/missing values in the data\n",
        "data.isnull().sum()"
      ],
      "metadata": {
        "trusted": true,
        "id": "e7205589-cf87-4148-82e5-b39c688fa062"
      },
      "outputs": [],
      "execution_count": null
    },
    {
      "id": "9b5818aa-633c-4bd8-97f8-87e4e4384b58",
      "cell_type": "code",
      "source": [
        "data.shape"
      ],
      "metadata": {
        "trusted": true,
        "id": "9b5818aa-633c-4bd8-97f8-87e4e4384b58"
      },
      "outputs": [],
      "execution_count": null
    },
    {
      "id": "079cc005-792a-45d7-889c-6b3f18e521e4",
      "cell_type": "markdown",
      "source": [
        " So only 2 columns education and previous_yr_rating are having missing values (few in number)"
      ],
      "metadata": {
        "id": "079cc005-792a-45d7-889c-6b3f18e521e4"
      }
    },
    {
      "id": "c9793048-9d43-41ad-821d-1968b292833c",
      "cell_type": "code",
      "source": [
        "data.nunique()"
      ],
      "metadata": {
        "trusted": true,
        "id": "c9793048-9d43-41ad-821d-1968b292833c"
      },
      "outputs": [],
      "execution_count": null
    },
    {
      "id": "738f9043-c466-4dac-addc-3c55cf063aaa",
      "cell_type": "code",
      "source": [
        "data.info()"
      ],
      "metadata": {
        "trusted": true,
        "id": "738f9043-c466-4dac-addc-3c55cf063aaa"
      },
      "outputs": [],
      "execution_count": null
    },
    {
      "id": "e0354744-be24-44f1-8494-c71072790581",
      "cell_type": "code",
      "source": [
        "data.describe() # prints the statistics of the numerical columns in the data"
      ],
      "metadata": {
        "trusted": true,
        "id": "e0354744-be24-44f1-8494-c71072790581"
      },
      "outputs": [],
      "execution_count": null
    },
    {
      "id": "99b0f5f6-c8f4-42e9-bb9d-009bb90eb8cc",
      "cell_type": "markdown",
      "source": [
        "# UNIVARIATE Analysis"
      ],
      "metadata": {
        "id": "99b0f5f6-c8f4-42e9-bb9d-009bb90eb8cc"
      }
    },
    {
      "id": "745944be-31d4-4936-b636-9b2f8cae0b88",
      "cell_type": "code",
      "source": [
        "data.columns"
      ],
      "metadata": {
        "trusted": true,
        "id": "745944be-31d4-4936-b636-9b2f8cae0b88"
      },
      "outputs": [],
      "execution_count": null
    },
    {
      "id": "7b1dcc19-3c51-447f-ad2c-29c1d2be6611",
      "cell_type": "code",
      "source": [
        "num_cols = [col for col in data.columns if data[col].dtypes==\"int64\" or  data[col].dtypes==\"float64\"]\n",
        "num_cols"
      ],
      "metadata": {
        "trusted": true,
        "id": "7b1dcc19-3c51-447f-ad2c-29c1d2be6611"
      },
      "outputs": [],
      "execution_count": null
    },
    {
      "id": "fec8da06-4fe9-4f80-8024-4bc9cc6873cc",
      "cell_type": "markdown",
      "source": [
        "## Numerical Columns Analysis"
      ],
      "metadata": {
        "id": "fec8da06-4fe9-4f80-8024-4bc9cc6873cc"
      }
    },
    {
      "id": "fee1c68a-d5b4-47c2-92cc-9b1a91da3617",
      "cell_type": "markdown",
      "source": [
        "1] no_of_trainings"
      ],
      "metadata": {
        "id": "fee1c68a-d5b4-47c2-92cc-9b1a91da3617"
      }
    },
    {
      "id": "7d8973ba-51b9-4932-8ea3-db34b88155ea",
      "cell_type": "code",
      "source": [
        "data[\"no_of_trainings\"].value_counts()"
      ],
      "metadata": {
        "trusted": true,
        "id": "7d8973ba-51b9-4932-8ea3-db34b88155ea"
      },
      "outputs": [],
      "execution_count": null
    },
    {
      "id": "ee1aaffd-1719-4d4e-ad7c-71d53bcbd720",
      "cell_type": "code",
      "source": [
        "# it has numeric datatype but has only 9 unique values so can be treated as categorical column\n",
        "sns.histplot(data=data,x=\"no_of_trainings\",color=\"cyan\")"
      ],
      "metadata": {
        "trusted": true,
        "id": "ee1aaffd-1719-4d4e-ad7c-71d53bcbd720"
      },
      "outputs": [],
      "execution_count": null
    },
    {
      "id": "7f1efd12-c689-4d9c-a435-efd517241cc5",
      "cell_type": "markdown",
      "source": [
        "We can see discrete bars due to the fact that no_of_trainings has only 9 discrete unique values"
      ],
      "metadata": {
        "id": "7f1efd12-c689-4d9c-a435-efd517241cc5"
      }
    },
    {
      "id": "1e7f352b-d956-4c44-81c1-89f6b3ece222",
      "cell_type": "markdown",
      "source": [
        "Inference : Most of the employee have only 1 or 2 training session with a maximum of 9"
      ],
      "metadata": {
        "id": "1e7f352b-d956-4c44-81c1-89f6b3ece222"
      }
    },
    {
      "id": "3b3b5627-f1d9-46c7-8f36-d50f59f3cee0",
      "cell_type": "markdown",
      "source": [
        "2] AGE"
      ],
      "metadata": {
        "id": "3b3b5627-f1d9-46c7-8f36-d50f59f3cee0"
      }
    },
    {
      "id": "5b97c91e-dcee-4856-9d5a-91b605ee269d",
      "cell_type": "code",
      "source": [
        "sns.histplot(data=data,x=\"age\",bins=20,color=\"pink\",kde=True)"
      ],
      "metadata": {
        "trusted": true,
        "id": "5b97c91e-dcee-4856-9d5a-91b605ee269d"
      },
      "outputs": [],
      "execution_count": null
    },
    {
      "id": "4f0cce0e-e30d-4d82-805b-9d75c42e0a5f",
      "cell_type": "markdown",
      "source": [
        "We can see that most of the employees are youth, with few being aged.  \n",
        "We have a peak around 30 years age which is quite logical in most of the companies to have young employees with a little work experience"
      ],
      "metadata": {
        "id": "4f0cce0e-e30d-4d82-805b-9d75c42e0a5f"
      }
    },
    {
      "id": "ff0dc4b7-b8e1-4d49-ac7b-5c0644f63493",
      "cell_type": "markdown",
      "source": [
        "3] length_of_service"
      ],
      "metadata": {
        "id": "ff0dc4b7-b8e1-4d49-ac7b-5c0644f63493"
      }
    },
    {
      "id": "e478ced1-d34b-4997-8bf3-a8e79c8ee7b9",
      "cell_type": "code",
      "source": [
        "sns.histplot(data=data,x=\"length_of_service\",bins=15,color=\"green\",kde=True)"
      ],
      "metadata": {
        "trusted": true,
        "id": "e478ced1-d34b-4997-8bf3-a8e79c8ee7b9"
      },
      "outputs": [],
      "execution_count": null
    },
    {
      "id": "f25105f6-66f6-47bf-8037-9ff699a05bf2",
      "cell_type": "markdown",
      "source": [
        "We can see that most of the employees are dont have very less large length_of_service with their previous employer as the kde is highly right skewed"
      ],
      "metadata": {
        "id": "f25105f6-66f6-47bf-8037-9ff699a05bf2"
      }
    },
    {
      "id": "3d00422d-9e28-4794-bfa7-315a762b4416",
      "cell_type": "markdown",
      "source": [
        "4] KPIs_met_more_than_80"
      ],
      "metadata": {
        "id": "3d00422d-9e28-4794-bfa7-315a762b4416"
      }
    },
    {
      "id": "8b848897-db66-4ecb-8bb8-7ae3b5fa2df0",
      "cell_type": "code",
      "source": [
        "data.KPIs_met_more_than_80.unique()"
      ],
      "metadata": {
        "trusted": true,
        "id": "8b848897-db66-4ecb-8bb8-7ae3b5fa2df0"
      },
      "outputs": [],
      "execution_count": null
    },
    {
      "id": "424ec04f-6bb6-46c8-9f91-33d6bc8618a6",
      "cell_type": "code",
      "source": [
        "sns.countplot(data=data,x=\"KPIs_met_more_than_80\",palette=[\"red\",\"green\"])"
      ],
      "metadata": {
        "trusted": true,
        "id": "424ec04f-6bb6-46c8-9f91-33d6bc8618a6"
      },
      "outputs": [],
      "execution_count": null
    },
    {
      "id": "50ac8909-85b0-4caa-bbfe-b87f94286314",
      "cell_type": "code",
      "source": [
        "counts = data[\"KPIs_met_more_than_80\"].value_counts()\n",
        "plt.figure(figsize=(8, 8))  # Optional: Set the figure size\n",
        "plt.pie(counts, labels=counts.index, autopct='%1.1f%%', colors=[\"red\", \"green\"])\n",
        "plt.title('Distribution of KPIs Met More Than 80%')\n",
        "plt.show()"
      ],
      "metadata": {
        "trusted": true,
        "id": "50ac8909-85b0-4caa-bbfe-b87f94286314"
      },
      "outputs": [],
      "execution_count": null
    },
    {
      "id": "5d612c32-a291-4aca-b299-df595d48e19e",
      "cell_type": "markdown",
      "source": [
        "We can see that 64% of the employees havent achieved Key Performance Indicators which is a concern for the company managers.  \n",
        "They have to work on improving this %age upto 70% and even more for growth of the company"
      ],
      "metadata": {
        "id": "5d612c32-a291-4aca-b299-df595d48e19e"
      }
    },
    {
      "id": "3bffc971-48a6-4936-8483-4f435a7c355a",
      "cell_type": "markdown",
      "source": [
        "5] AWARDS WON"
      ],
      "metadata": {
        "id": "3bffc971-48a6-4936-8483-4f435a7c355a"
      }
    },
    {
      "id": "134cae9d-d8ca-4e1e-ac7c-fa3e9bdce2a4",
      "cell_type": "code",
      "source": [
        "counts = data[\"awards_won\"].value_counts()\n",
        "plt.figure(figsize=(8, 8))  # Optional: Set the figure size\n",
        "plt.pie(counts, labels=counts.index, autopct='%1.1f%%', colors=[\"red\", \"green\"])\n",
        "plt.title('awards_won')\n",
        "plt.show()"
      ],
      "metadata": {
        "trusted": true,
        "id": "134cae9d-d8ca-4e1e-ac7c-fa3e9bdce2a4"
      },
      "outputs": [],
      "execution_count": null
    },
    {
      "id": "9670cb23-35d8-488b-9b4e-cc3a574a2ceb",
      "cell_type": "markdown",
      "source": [
        "Only 2.3% of the employees have won the award which is quite logical that award is given by the company to only few cream employees for there excelent performance"
      ],
      "metadata": {
        "id": "9670cb23-35d8-488b-9b4e-cc3a574a2ceb"
      }
    },
    {
      "id": "3c2e01b1-a97c-4445-9cb5-c54fad8db989",
      "cell_type": "markdown",
      "source": [
        "6] avg_training_score"
      ],
      "metadata": {
        "id": "3c2e01b1-a97c-4445-9cb5-c54fad8db989"
      }
    },
    {
      "id": "86f002c1-1847-46d6-af59-d478e6ec034b",
      "cell_type": "code",
      "source": [
        "sns.histplot(data=data,x=\"avg_training_score\",bins=25,kde=True,color=\"orange\")"
      ],
      "metadata": {
        "trusted": true,
        "id": "86f002c1-1847-46d6-af59-d478e6ec034b"
      },
      "outputs": [],
      "execution_count": null
    },
    {
      "id": "86da868e-f025-46ee-ad01-70a460369256",
      "cell_type": "markdown",
      "source": [
        "We can see a wide variation in the avg_training_score range.  Less employees have scored above 80"
      ],
      "metadata": {
        "id": "86da868e-f025-46ee-ad01-70a460369256"
      }
    },
    {
      "id": "623d5cc3-4bf5-4f8e-b829-380e6d73756f",
      "cell_type": "markdown",
      "source": [
        "7] previous_year_rating"
      ],
      "metadata": {
        "id": "623d5cc3-4bf5-4f8e-b829-380e6d73756f"
      }
    },
    {
      "id": "fc3eeebe-1f3c-400b-8682-9c7461399780",
      "cell_type": "code",
      "source": [
        "sns.countplot(data=data,x=\"previous_year_rating\")"
      ],
      "metadata": {
        "trusted": true,
        "id": "fc3eeebe-1f3c-400b-8682-9c7461399780"
      },
      "outputs": [],
      "execution_count": null
    },
    {
      "id": "06a3826a-e608-46f3-a167-c6eee08cf323",
      "cell_type": "markdown",
      "source": [
        "## Categorical Column Analysis"
      ],
      "metadata": {
        "id": "06a3826a-e608-46f3-a167-c6eee08cf323"
      }
    },
    {
      "id": "501f81a2-c113-4ab7-8ed1-cfc6051f1138",
      "cell_type": "code",
      "source": [
        "cat_cols = [col for col in data.columns if data[col].dtypes==\"object\"]\n",
        "cat_cols"
      ],
      "metadata": {
        "trusted": true,
        "id": "501f81a2-c113-4ab7-8ed1-cfc6051f1138"
      },
      "outputs": [],
      "execution_count": null
    },
    {
      "id": "09034a44-32c1-4d4b-9160-aa52993ea716",
      "cell_type": "markdown",
      "source": [
        "1] Department"
      ],
      "metadata": {
        "id": "09034a44-32c1-4d4b-9160-aa52993ea716"
      }
    },
    {
      "id": "f21dd975-4fd8-4bbc-8bbb-8a6bfaf59b27",
      "cell_type": "code",
      "source": [
        "data.department.value_counts()"
      ],
      "metadata": {
        "trusted": true,
        "id": "f21dd975-4fd8-4bbc-8bbb-8a6bfaf59b27"
      },
      "outputs": [],
      "execution_count": null
    },
    {
      "id": "cfea94d9-46a5-498a-8cc5-907c435f8d3b",
      "cell_type": "code",
      "source": [
        "sns.countplot(data=data,y=\"department\")"
      ],
      "metadata": {
        "trusted": true,
        "id": "cfea94d9-46a5-498a-8cc5-907c435f8d3b"
      },
      "outputs": [],
      "execution_count": null
    },
    {
      "id": "cfc3caec-a74d-4b11-81ef-d4962872a519",
      "cell_type": "code",
      "source": [
        "counts = data[\"department\"].value_counts()\n",
        "plt.figure(figsize=(8, 8))  # Optional: Set the figure size\n",
        "plt.pie(counts, labels=counts.index, autopct='%1.1f%%', colors=[\"red\", \"green\",\"purple\"])\n",
        "plt.title('department')\n",
        "plt.show()"
      ],
      "metadata": {
        "trusted": true,
        "id": "cfc3caec-a74d-4b11-81ef-d4962872a519"
      },
      "outputs": [],
      "execution_count": null
    },
    {
      "id": "e89f3f19-37b9-48fb-8f4d-c3952a355a95",
      "cell_type": "markdown",
      "source": [
        "Operations and Sales&Marketing covers half of company employees with very few in R&D, Legal, Finance etc"
      ],
      "metadata": {
        "id": "e89f3f19-37b9-48fb-8f4d-c3952a355a95"
      }
    },
    {
      "id": "aab2e60b-60de-45dc-9a00-6bc220494a34",
      "cell_type": "markdown",
      "source": [
        "2] Education"
      ],
      "metadata": {
        "id": "aab2e60b-60de-45dc-9a00-6bc220494a34"
      }
    },
    {
      "id": "3df24956-4f53-4654-8ada-5412527cc9e1",
      "cell_type": "code",
      "source": [
        "sns.countplot(data=data,x=\"education\",color=\"yellow\")"
      ],
      "metadata": {
        "trusted": true,
        "id": "3df24956-4f53-4654-8ada-5412527cc9e1"
      },
      "outputs": [],
      "execution_count": null
    },
    {
      "id": "cef0f0dc-10cc-48d2-96b2-78a2287a3150",
      "cell_type": "markdown",
      "source": [
        "Max employees are decently educated, few being highly educated, very less being less educated"
      ],
      "metadata": {
        "id": "cef0f0dc-10cc-48d2-96b2-78a2287a3150"
      }
    },
    {
      "id": "336de18c-397a-4e98-adcb-67491dfabf8e",
      "cell_type": "markdown",
      "source": [
        "3] Gender"
      ],
      "metadata": {
        "id": "336de18c-397a-4e98-adcb-67491dfabf8e"
      }
    },
    {
      "id": "d963225a-c880-402d-b52c-2de7e729f156",
      "cell_type": "code",
      "source": [
        "counts = data[\"gender\"].value_counts()\n",
        "plt.figure(figsize=(8, 8))  # Optional: Set the figure size\n",
        "plt.pie(counts, labels=counts.index, autopct='%1.1f%%', colors=[\"green\", \"cyan\"])\n",
        "plt.title('gender')\n",
        "plt.show()"
      ],
      "metadata": {
        "trusted": true,
        "id": "d963225a-c880-402d-b52c-2de7e729f156"
      },
      "outputs": [],
      "execution_count": null
    },
    {
      "id": "987684d3-3bab-4ce3-9933-be0a0d4ca82a",
      "cell_type": "markdown",
      "source": [
        "More than 70% employees in the company are male"
      ],
      "metadata": {
        "id": "987684d3-3bab-4ce3-9933-be0a0d4ca82a"
      }
    },
    {
      "id": "a849b8f3-b746-4000-976c-f3357a5f1618",
      "cell_type": "markdown",
      "source": [
        "4] recruitment_channel"
      ],
      "metadata": {
        "id": "a849b8f3-b746-4000-976c-f3357a5f1618"
      }
    },
    {
      "id": "56e1dec9-b6c8-4727-8f60-5c97bed3933f",
      "cell_type": "code",
      "source": [
        "counts = data[\"recruitment_channel\"].value_counts()\n",
        "plt.figure(figsize=(8, 8))  # Optional: Set the figure size\n",
        "plt.pie(counts, labels=counts.index, autopct='%1.1f%%', colors=[\"blue\", \"red\",\"green\"])\n",
        "plt.title('recruitment_channel')\n",
        "plt.show()"
      ],
      "metadata": {
        "trusted": true,
        "id": "56e1dec9-b6c8-4727-8f60-5c97bed3933f"
      },
      "outputs": [],
      "execution_count": null
    },
    {
      "id": "5d50dbf7-9f58-4bb6-a93e-739d2e836093",
      "cell_type": "markdown",
      "source": [
        "5] Region"
      ],
      "metadata": {
        "id": "5d50dbf7-9f58-4bb6-a93e-739d2e836093"
      }
    },
    {
      "id": "9f1e99ed-1895-45d2-ad12-b3ebcce473a2",
      "cell_type": "code",
      "source": [
        "sns.countplot(data=data,y=\"region\",color=\"yellow\")"
      ],
      "metadata": {
        "trusted": true,
        "id": "9f1e99ed-1895-45d2-ad12-b3ebcce473a2"
      },
      "outputs": [],
      "execution_count": null
    },
    {
      "id": "92760e17-72eb-4dc5-b877-c9697e2d4a59",
      "cell_type": "markdown",
      "source": [
        "Max employees belong to region2, while remaining approx evenly spread in rest locations"
      ],
      "metadata": {
        "id": "92760e17-72eb-4dc5-b877-c9697e2d4a59"
      }
    },
    {
      "id": "6b5cf902-f2d5-4b53-940f-796ad7fd9893",
      "cell_type": "markdown",
      "source": [
        "## Here we have completed analysis of indivisual column, based on this lets fill the null values in the dataset"
      ],
      "metadata": {
        "id": "6b5cf902-f2d5-4b53-940f-796ad7fd9893"
      }
    },
    {
      "id": "438282dd-30d6-497b-920e-c63d6171afd1",
      "cell_type": "markdown",
      "source": [
        "Based on the analysis of previous_year_rating, i think its better to fill nan values using meadian (which is also the mode)"
      ],
      "metadata": {
        "id": "438282dd-30d6-497b-920e-c63d6171afd1"
      }
    },
    {
      "id": "aa24e424-5f27-4aee-8fce-faf7529e99bf",
      "cell_type": "code",
      "source": [
        "si1 = SimpleImputer(strategy=\"median\")\n",
        "imputed_values = si1.fit_transform(data[[\"previous_year_rating\"]])\n",
        "# Assign the imputed values back to the original DataFrame\n",
        "data[\"previous_year_rating\"] = imputed_values"
      ],
      "metadata": {
        "trusted": true,
        "id": "aa24e424-5f27-4aee-8fce-faf7529e99bf"
      },
      "outputs": [],
      "execution_count": null
    },
    {
      "id": "57fd8767-7b83-4c84-a3d8-0f8626c7bea5",
      "cell_type": "markdown",
      "source": [
        "For the education column lets use the mode (graduate) as its categorical data mean, meadin doesnt make sense and also graduate class is largely dominant over the other two"
      ],
      "metadata": {
        "id": "57fd8767-7b83-4c84-a3d8-0f8626c7bea5"
      }
    },
    {
      "id": "97cd0a31-5cb0-428f-87fb-b0eaa942c4c1",
      "cell_type": "code",
      "source": [
        "# Lets use fillna this time\n",
        "mode = data['education'].mode()[0]\n",
        "data['education'] = data['education'].fillna(mode)"
      ],
      "metadata": {
        "trusted": true,
        "id": "97cd0a31-5cb0-428f-87fb-b0eaa942c4c1"
      },
      "outputs": [],
      "execution_count": null
    },
    {
      "id": "db868dad-f379-4b04-80f0-618cf868c60b",
      "cell_type": "code",
      "source": [
        "data.isnull().sum()"
      ],
      "metadata": {
        "trusted": true,
        "id": "db868dad-f379-4b04-80f0-618cf868c60b"
      },
      "outputs": [],
      "execution_count": null
    },
    {
      "id": "5717150f-82bc-450a-bc5d-8e7a942f7453",
      "cell_type": "markdown",
      "source": [
        "# Now we have a completed the missing value imputation part"
      ],
      "metadata": {
        "id": "5717150f-82bc-450a-bc5d-8e7a942f7453"
      }
    },
    {
      "id": "68c61a86-3893-42f3-a814-eeef9360286f",
      "cell_type": "markdown",
      "source": [
        "# BIVARIATE ANALYSIS"
      ],
      "metadata": {
        "id": "68c61a86-3893-42f3-a814-eeef9360286f"
      }
    },
    {
      "id": "2f93cf5e-0a9a-4599-b731-7993dfd09f81",
      "cell_type": "markdown",
      "source": [
        "# 1] Numerical and Numerical"
      ],
      "metadata": {
        "id": "2f93cf5e-0a9a-4599-b731-7993dfd09f81"
      }
    },
    {
      "id": "5fc13235-a645-4525-a06e-27d143f211c3",
      "cell_type": "code",
      "source": [
        "numerical_data = data.select_dtypes(include=['float64', 'int64'])\n",
        "correlation_matrix = numerical_data.corr()\n",
        "plt.figure(figsize=(8, 6))\n",
        "sns.heatmap(correlation_matrix, annot=True, fmt=\".2f\", cmap='viridis', square=True, cbar=True, linewidths=0.5)\n",
        "plt.title('Heatmap of Correlation Matrix for Numerical Data')\n",
        "plt.show()"
      ],
      "metadata": {
        "trusted": true,
        "id": "5fc13235-a645-4525-a06e-27d143f211c3"
      },
      "outputs": [],
      "execution_count": null
    },
    {
      "id": "c9429bab-ba53-4eee-92e7-6db61a6f0046",
      "cell_type": "markdown",
      "source": [
        "From the heatmap of correlation matrix we can see that ther isnt much linear relationship between the maximum numerical columns"
      ],
      "metadata": {
        "id": "c9429bab-ba53-4eee-92e7-6db61a6f0046"
      }
    },
    {
      "id": "72bea398-ec88-4fbe-a29e-8ea8ea1df753",
      "cell_type": "markdown",
      "source": [
        "Two things that can be infered are  \n",
        "1] length of service is quite well correlated with age which is quite logical as person with less age cant be expected to have large experience.  \n",
        "2] KPI more than 80 is little related with the prev_yr_rating."
      ],
      "metadata": {
        "id": "72bea398-ec88-4fbe-a29e-8ea8ea1df753"
      }
    },
    {
      "id": "61cf1ee1-81fb-4e6c-8c06-ef48ff78c9ba",
      "cell_type": "markdown",
      "source": [
        "## 2] Categorical and categorical"
      ],
      "metadata": {
        "id": "61cf1ee1-81fb-4e6c-8c06-ef48ff78c9ba"
      }
    },
    {
      "id": "e4d2237b-8ac9-446f-abb9-141545a8fa4d",
      "cell_type": "code",
      "source": [
        "# lets not plot for region as its giving very dirty graphs which cant be used to infer anything\n",
        "cat_col = cat_cols.copy()\n",
        "cat_col.remove(\"region\")\n",
        "for col1, col2 in combinations(cat_col, 2):\n",
        "    plt.figure(figsize=(10, 6))\n",
        "    sns.countplot(data=data, y=col1, hue=col2, palette='Set1')\n",
        "    plt.title(f'Count of {col1} by {col2}')\n",
        "    plt.xlabel(col1)\n",
        "    plt.ylabel('Count')\n",
        "    plt.legend(title=col2)\n",
        "    plt.show()"
      ],
      "metadata": {
        "trusted": true,
        "id": "e4d2237b-8ac9-446f-abb9-141545a8fa4d"
      },
      "outputs": [],
      "execution_count": null
    },
    {
      "id": "9d44e8c3-817f-4e02-a99a-29a2a880f38d",
      "cell_type": "markdown",
      "source": [
        "We have plotted count plots for various combinations of categorical columns"
      ],
      "metadata": {
        "id": "9d44e8c3-817f-4e02-a99a-29a2a880f38d"
      }
    },
    {
      "id": "682f2a8e-8939-4437-887b-a0459fe8749a",
      "cell_type": "code",
      "source": [
        "for col1, col2 in combinations(cat_cols, 2):\n",
        "    # Create contingency table\n",
        "    contingency_table = pd.crosstab(data[col1], data[col2])\n",
        "    # Perform Chi-Square test\n",
        "    chi2, p, dof, expected = chi2_contingency(contingency_table)\n",
        "    print(f\"Chi-Square Test between {col1} and {col2}:\")\n",
        "    print(f\"Chi2 Statistic: {chi2:.4f}, p-value: {p:.4f}, Degrees of Freedom: {dof}\")"
      ],
      "metadata": {
        "trusted": true,
        "id": "682f2a8e-8939-4437-887b-a0459fe8749a"
      },
      "outputs": [],
      "execution_count": null
    },
    {
      "id": "e791a8b6-0a24-4868-8f6e-cfca4d6f7a73",
      "cell_type": "markdown",
      "source": [
        "high p-value implies there is no association between the two categorical data¶"
      ],
      "metadata": {
        "id": "e791a8b6-0a24-4868-8f6e-cfca4d6f7a73"
      }
    },
    {
      "id": "e01db113-6c0b-439b-a381-160f409735af",
      "cell_type": "markdown",
      "source": [
        "So from the above result we can say the following things:\n",
        "1] department and region, department and education, department and gender, department and recruitment_channel have a relationship between them\n",
        "ie. department is dependent on all these factors 2] region is also dependent on all other cat factors education, gender, department, recruitment_channel\n",
        "3] only indepedent pair from the observation is gender and recruitment channel"
      ],
      "metadata": {
        "id": "e01db113-6c0b-439b-a381-160f409735af"
      }
    },
    {
      "id": "a107cc54-3145-4eaa-86b4-6b406cf33f7e",
      "cell_type": "markdown",
      "source": [
        "## 3] Numerical and Categorical"
      ],
      "metadata": {
        "id": "a107cc54-3145-4eaa-86b4-6b406cf33f7e"
      }
    },
    {
      "id": "502ad2cf-74cb-4e7c-89f6-b913a6e28ae3",
      "cell_type": "code",
      "source": [
        "for num_col, cat_col in product(num_cols, cat_cols):\n",
        "    # Calculate mean and standard deviation for the numerical column based on categorical variable\n",
        "    summary = data.groupby(cat_col).agg(\n",
        "        mean_value=(num_col, 'mean'),\n",
        "        std_value=(num_col, 'std'),\n",
        "        count=(num_col, 'size')\n",
        "    ).reset_index()\n",
        "\n",
        "    # Calculate standard error for error bars\n",
        "    summary['std_error'] = summary['std_value'] / summary['count']**0.5\n",
        "\n",
        "    # Plotting line chart with error bars\n",
        "    plt.figure(figsize=(12, 6))\n",
        "    sns.lineplot(data=summary, x=cat_col, y='mean_value', marker='o')\n",
        "\n",
        "    # Add error bars\n",
        "    plt.errorbar(x=summary[cat_col],\n",
        "                 y=summary['mean_value'],\n",
        "                 yerr=summary['std_error'],\n",
        "                 fmt='none',\n",
        "                 c='black',\n",
        "                 capsize=5)\n",
        "\n",
        "    # Adding titles and labels\n",
        "    plt.title(f'Mean {num_col} by {cat_col}')\n",
        "    plt.xlabel(cat_col)\n",
        "    plt.ylabel(f'Mean {num_col}')\n",
        "    plt.grid()\n",
        "\n",
        "    # Show the plot\n",
        "    plt.show()"
      ],
      "metadata": {
        "trusted": true,
        "id": "502ad2cf-74cb-4e7c-89f6-b913a6e28ae3"
      },
      "outputs": [],
      "execution_count": null
    },
    {
      "id": "b45ddcf2-7a71-46ee-957f-df30a9196786",
      "cell_type": "markdown",
      "source": [
        "## Scroll the above graphs for all possible combos¶"
      ],
      "metadata": {
        "id": "b45ddcf2-7a71-46ee-957f-df30a9196786"
      }
    },
    {
      "id": "c7e314c8-fb25-434c-91c8-4f88d220fb73",
      "cell_type": "code",
      "source": [
        "# Constants\n",
        "SAMPLE_SIZE_THRESHOLD = 30\n",
        "SIGNIFICANCE_LEVEL = 0.05\n",
        "\n",
        "# Assuming you have two lists: cat_cols (categorical) and num_cols (numerical)\n",
        "# Replace `data` with your actual DataFrame\n",
        "for cat_col, num_col in product(cat_cols, num_cols):\n",
        "    # Drop any rows with missing values for the current pair of columns\n",
        "    filtered_data = data[[cat_col, num_col]].dropna()\n",
        "\n",
        "    # Group numerical data by the categorical column\n",
        "    groups = filtered_data.groupby(cat_col)[num_col]\n",
        "\n",
        "    # Get unique categories\n",
        "    unique_categories = filtered_data[cat_col].unique()\n",
        "\n",
        "    # Skip if there's only one category (nothing to compare)\n",
        "    if len(unique_categories) < 2:\n",
        "        print(f\"Skipping {cat_col} - {num_col}: Less than two categories\")\n",
        "        continue\n",
        "\n",
        "    # Handle binary categorical columns (T-test)\n",
        "    if len(unique_categories) == 2:\n",
        "        group1 = groups.get_group(unique_categories[0])\n",
        "        group2 = groups.get_group(unique_categories[1])\n",
        "\n",
        "        # Check which test to perform based on sample size\n",
        "        if len(group1) > SAMPLE_SIZE_THRESHOLD and len(group2) > SAMPLE_SIZE_THRESHOLD:\n",
        "            # Perform Z-test approximation using T-test\n",
        "            stat, p_value = stats.ttest_ind(group1, group2, equal_var=False)\n",
        "            test_type = \"Z-test (T-test approximation)\"\n",
        "        else:\n",
        "            # Perform T-test\n",
        "            stat, p_value = stats.ttest_ind(group1, group2, equal_var=False)\n",
        "            test_type = \"T-test\"\n",
        "\n",
        "        # Print results\n",
        "        print(f\"{test_type} between {cat_col} and {num_col}:\")\n",
        "        print(f\"Statistic: {stat:.4f}, p-value: {p_value:.4f}\")\n",
        "\n",
        "        # Significance test\n",
        "        if p_value < SIGNIFICANCE_LEVEL:\n",
        "            print(f\"Reject the null hypothesis (p-value < {SIGNIFICANCE_LEVEL})\")\n",
        "        else:\n",
        "            print(f\"Fail to reject the null hypothesis (p-value >= {SIGNIFICANCE_LEVEL})\")\n",
        "\n",
        "    # Handle categorical columns with more than 2 categories (ANOVA)\n",
        "    else:\n",
        "        # Create a list of numerical data for each category\n",
        "        category_data = [group for _, group in groups]\n",
        "\n",
        "        # Perform one-way ANOVA\n",
        "        stat, p_value = stats.f_oneway(*category_data)\n",
        "        test_type = \"ANOVA\"\n",
        "\n",
        "        # Print results\n",
        "        print(f\"{test_type} between {cat_col} and {num_col}:\")\n",
        "        print(f\"Statistic: {stat:.4f}, p-value: {p_value:.4f}\")\n",
        "\n",
        "        # Significance test\n",
        "        if p_value < SIGNIFICANCE_LEVEL:\n",
        "            print(f\"Reject the null hypothesis (p-value < {SIGNIFICANCE_LEVEL})\")\n",
        "        else:\n",
        "            print(f\"Fail to reject the null hypothesis (p-value >= {SIGNIFICANCE_LEVEL})\")\n",
        "\n",
        "    print(\"\\n\")"
      ],
      "metadata": {
        "trusted": true,
        "id": "c7e314c8-fb25-434c-91c8-4f88d220fb73"
      },
      "outputs": [],
      "execution_count": null
    },
    {
      "id": "2a1141a6-410e-4845-b913-9c32faa37f00",
      "cell_type": "markdown",
      "source": [
        "## Conclusions"
      ],
      "metadata": {
        "id": "2a1141a6-410e-4845-b913-9c32faa37f00"
      }
    },
    {
      "id": "c52d1148-bbd5-4143-8a7f-c869501f2c4c",
      "cell_type": "markdown",
      "source": [
        "1] The company has to work on efficiency of the employees as less employees are able to meet kpi more than 80  \n",
        "2] Higher education doesnt necesarily imply the employee is better as we can see from kpi met as well as awards won  \n",
        "3] The company can work on improving female:male ratio  \n",
        "4] Sales and marketing is major sector for concern which has least avg in meeting the kpi of 80 which must be improved to inc the revenue  \n",
        "5] There is high dependency between columns so before training a model do proper feature engineering for better results.  "
      ],
      "metadata": {
        "id": "c52d1148-bbd5-4143-8a7f-c869501f2c4c"
      }
    },
    {
      "id": "39b0ef10-fed5-4a70-919b-73a911edb174",
      "cell_type": "markdown",
      "source": [
        "# Cleaning"
      ],
      "metadata": {
        "id": "39b0ef10-fed5-4a70-919b-73a911edb174"
      }
    },
    {
      "id": "41b8c81d-80d0-4d3e-b039-c4f28fccc3f3",
      "cell_type": "code",
      "source": [
        "# lets check for outliers\n",
        "sns.boxplot(data=data,x=\"length_of_service\")"
      ],
      "metadata": {
        "trusted": true,
        "id": "41b8c81d-80d0-4d3e-b039-c4f28fccc3f3"
      },
      "outputs": [],
      "execution_count": null
    },
    {
      "id": "fecee0c0-4474-441d-97cd-c644e05eb508",
      "cell_type": "code",
      "source": [
        "# Calculate Q1 (25th percentile) and Q3 (75th percentile)\n",
        "Q1 = data['length_of_service'].quantile(0.25)\n",
        "Q3 = data['length_of_service'].quantile(0.75)\n",
        "IQR = Q3 - Q1\n",
        "\n",
        "# Define lower and upper bounds\n",
        "lower_bound = Q1 - 1.5 * IQR\n",
        "upper_bound = Q3 + 1.5 * IQR\n",
        "\n",
        "# Filter the DataFrame to remove outliers\n",
        "data_filtered = data[(data['length_of_service'] >= lower_bound) & (data['length_of_service'] <= upper_bound)]\n",
        "\n",
        "# Optionally, print the number of rows before and after\n",
        "print(f'Original data size: {data.shape[0]}')\n",
        "print(f'Filtered data size: {data_filtered.shape[0]}')"
      ],
      "metadata": {
        "trusted": true,
        "id": "fecee0c0-4474-441d-97cd-c644e05eb508"
      },
      "outputs": [],
      "execution_count": null
    },
    {
      "id": "76cfccf2-d718-4280-b1a5-4cfdf1537e7d",
      "cell_type": "markdown",
      "source": [
        "SO we have removed 1028 outliers in the data based on lenght_of_service column"
      ],
      "metadata": {
        "id": "76cfccf2-d718-4280-b1a5-4cfdf1537e7d"
      }
    },
    {
      "id": "f8578770-7f51-4f9e-85b9-97f218684422",
      "cell_type": "markdown",
      "source": [
        "# Encoding Categorical Data"
      ],
      "metadata": {
        "id": "f8578770-7f51-4f9e-85b9-97f218684422"
      }
    },
    {
      "id": "0b5dd131-a924-4c91-80a3-872d44c87b29",
      "cell_type": "code",
      "source": [
        "from sklearn.preprocessing import LabelEncoder\n",
        "\n",
        "# Initialize LabelEncoder\n",
        "le_department = LabelEncoder()\n",
        "le_region = LabelEncoder()\n",
        "\n",
        "# Apply Label Encoding to the 'department' column\n",
        "data['department_encoded'] = le_department.fit_transform(data['department'])\n",
        "\n",
        "# Apply Label Encoding to the 'region' column\n",
        "data['region_encoded'] = le_region.fit_transform(data['region'])\n",
        "# Drop the original categorical columns\n",
        "data = data.drop(columns=['department', 'region'])\n",
        "# Display the resulting DataFrame\n",
        "print(data)"
      ],
      "metadata": {
        "trusted": true,
        "id": "0b5dd131-a924-4c91-80a3-872d44c87b29"
      },
      "outputs": [],
      "execution_count": null
    },
    {
      "id": "19557e89-4297-41da-b833-c8e2a206feaf",
      "cell_type": "code",
      "source": [
        "# one-hot encoding\n",
        "data_encoded = pd.get_dummies(data, columns=['gender', 'recruitment_channel'], drop_first=True)\n",
        "# This could have also be done using sklearn\n",
        "# Drop the original categorical columns\n",
        "data = data.drop(columns=['gender','recruitment_channel'])\n",
        "# Display the resulting DataFrame\n",
        "print(data_encoded)"
      ],
      "metadata": {
        "trusted": true,
        "id": "19557e89-4297-41da-b833-c8e2a206feaf"
      },
      "outputs": [],
      "execution_count": null
    },
    {
      "id": "54335993-0b38-40a3-ba69-bf1ebeb28e3b",
      "cell_type": "code",
      "source": [
        "data.education.unique()"
      ],
      "metadata": {
        "trusted": true,
        "id": "54335993-0b38-40a3-ba69-bf1ebeb28e3b"
      },
      "outputs": [],
      "execution_count": null
    },
    {
      "id": "72f9a0b1-29b2-42c1-a454-7d74b12ec2fb",
      "cell_type": "code",
      "source": [
        "import pandas as pd\n",
        "from sklearn.preprocessing import OrdinalEncoder\n",
        "\n",
        "# Define the order of education levels (from lowest to highest)\n",
        "education_levels = ['Below Secondary','Bachelors', 'Masters & above']\n",
        "# Initialize the OrdinalEncoder with the specified categories\n",
        "ordinal_encoder = OrdinalEncoder(categories=[education_levels])\n",
        "# Apply ordinal encoding to the education column\n",
        "data_encoded['education_encoded'] = ordinal_encoder.fit_transform(data_encoded[['education']])\n",
        "data_encoded.drop(columns=[\"education\"],inplace=True)\n",
        "# Display the DataFrame with the encoded column\n",
        "print(data_encoded)"
      ],
      "metadata": {
        "trusted": true,
        "id": "72f9a0b1-29b2-42c1-a454-7d74b12ec2fb"
      },
      "outputs": [],
      "execution_count": null
    },
    {
      "id": "21fdba49-4f78-463b-85ef-1f801aeb0c23",
      "cell_type": "markdown",
      "source": [
        "# now our data is ready to be passsed to ML model."
      ],
      "metadata": {
        "id": "21fdba49-4f78-463b-85ef-1f801aeb0c23"
      }
    },
    {
      "id": "af8da6aa-70b0-4d37-be22-3cac6c187b48",
      "cell_type": "markdown",
      "source": [
        "# For better results, do proper feature engineering"
      ],
      "metadata": {
        "id": "af8da6aa-70b0-4d37-be22-3cac6c187b48"
      }
    },
    {
      "id": "948f2632-e835-4900-b031-125ea1b69c3f",
      "cell_type": "code",
      "source": [],
      "metadata": {
        "trusted": true,
        "id": "948f2632-e835-4900-b031-125ea1b69c3f"
      },
      "outputs": [],
      "execution_count": null
    }
  ]
}